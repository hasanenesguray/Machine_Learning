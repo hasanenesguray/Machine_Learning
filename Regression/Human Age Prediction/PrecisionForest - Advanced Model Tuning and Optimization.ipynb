{
 "cells": [
  {
   "cell_type": "markdown",
   "id": "12115af9",
   "metadata": {},
   "source": [
    "# Description"
   ]
  },
  {
   "cell_type": "markdown",
   "id": "e3504267",
   "metadata": {},
   "source": [
    "This dataset contains synthetic data designed for predicting age based on various health and lifestyle factors. It includes 3,000 rows with 24 features, each representing different aspects of physical health and lifestyle. \n",
    "\n",
    "## Features:\n",
    "\n",
    "* Height (cm): The height of the individual in centimeters.\n",
    "* Weight (kg): The weight of the individual in kilograms.\n",
    "* Blood Pressure (s/d): Blood pressure (systolic/diastolic) in mmHg.\n",
    "* Cholesterol Level (mg/dL): Cholesterol level in milligrams per deciliter.\n",
    "* BMI: Body Mass Index, calculated from height and weight.\n",
    "* Blood Glucose Level (mg/dL): Blood glucose level in milligrams per deciliter.\n",
    "* Bone Density (g/cm²): Bone density in grams per square centimeter.\n",
    "* Vision Sharpness: Vision sharpness on a scale from 0 (blurry) to 100 (perfect).\n",
    "* Hearing Ability (dB): Hearing ability in decibels.\n",
    "* Physical Activity Level: Categorized as 'Low', 'Moderate', or 'High'.\n",
    "* Smoking Status: Categorical values including 'Never', 'Former', and 'Current'.\n",
    "* Alcohol Consumption: Frequency of alcohol consumption.\n",
    "* Diet: Type of diet, categorized as 'Balanced', 'High Protein', 'Low Carb', etc.\n",
    "* Chronic Diseases: Presence of chronic diseases (e.g., diabetes, hypertension).\n",
    "* Medication Use: Usage of medication.\n",
    "* Family History: Presence of family history of age-related conditions.\n",
    "* Cognitive Function: Self-reported cognitive function on a scale from 0 (poor) to 100 (excellent).\n",
    "* Mental Health Status: Self-reported mental health status on a scale from 0 (poor) to 100 (excellent).\n",
    "* Sleep Patterns: Average number of sleep hours per night.\n",
    "* Stress Levels: Self-reported stress levels on a scale from 0 (low) to 100 (high).\n",
    "* Pollution Exposure: Exposure to pollution measured in arbitrary units.\n",
    "* Sun Exposure: Average sun exposure in hours per week.\n",
    "* Education Level: Highest level of education attained.\n",
    "* Income Level: Annual income in USD.\n",
    "* Age (years): The target variable representing the age of the individual."
   ]
  },
  {
   "cell_type": "code",
   "execution_count": null,
   "id": "5cdac511",
   "metadata": {},
   "outputs": [],
   "source": []
  }
 ],
 "metadata": {
  "kernelspec": {
   "display_name": "Python 3 (ipykernel)",
   "language": "python",
   "name": "python3"
  },
  "language_info": {
   "codemirror_mode": {
    "name": "ipython",
    "version": 3
   },
   "file_extension": ".py",
   "mimetype": "text/x-python",
   "name": "python",
   "nbconvert_exporter": "python",
   "pygments_lexer": "ipython3",
   "version": "3.9.12"
  }
 },
 "nbformat": 4,
 "nbformat_minor": 5
}
