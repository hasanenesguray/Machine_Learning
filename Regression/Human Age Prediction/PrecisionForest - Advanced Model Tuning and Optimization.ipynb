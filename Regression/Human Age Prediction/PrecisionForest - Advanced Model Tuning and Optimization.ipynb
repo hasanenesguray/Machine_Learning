{
 "cells": [
  {
   "cell_type": "markdown",
   "id": "b23978ec",
   "metadata": {},
   "source": [
    "# Description"
   ]
  },
  {
   "cell_type": "markdown",
   "id": "ed4aedeb",
   "metadata": {},
   "source": [
    "This dataset contains synthetic data designed for predicting age based on various health and lifestyle factors. It includes 3,000 rows with 24 features, each representing different aspects of physical health and lifestyle. \n",
    "\n",
    "## Features:\n",
    "\n",
    "* Height (cm): The height of the individual in centimeters.\n",
    "* Weight (kg): The weight of the individual in kilograms.\n",
    "* Blood Pressure (s/d): Blood pressure (systolic/diastolic) in mmHg.\n",
    "* Cholesterol Level (mg/dL): Cholesterol level in milligrams per deciliter.\n",
    "* BMI: Body Mass Index, calculated from height and weight.\n",
    "* Blood Glucose Level (mg/dL): Blood glucose level in milligrams per deciliter.\n",
    "* Bone Density (g/cm²): Bone density in grams per square centimeter.\n",
    "* Vision Sharpness: Vision sharpness on a scale from 0 (blurry) to 100 (perfect).\n",
    "* Hearing Ability (dB): Hearing ability in decibels.\n",
    "* Physical Activity Level: Categorized as 'Low', 'Moderate', or 'High'.\n",
    "* Smoking Status: Categorical values including 'Never', 'Former', and 'Current'.\n",
    "* Alcohol Consumption: Frequency of alcohol consumption.\n",
    "* Diet: Type of diet, categorized as 'Balanced', 'High Protein', 'Low Carb', etc.\n",
    "* Chronic Diseases: Presence of chronic diseases (e.g., diabetes, hypertension).\n",
    "* Medication Use: Usage of medication.\n",
    "* Family History: Presence of family history of age-related conditions.\n",
    "* Cognitive Function: Self-reported cognitive function on a scale from 0 (poor) to 100 (excellent).\n",
    "* Mental Health Status: Self-reported mental health status on a scale from 0 (poor) to 100 (excellent).\n",
    "* Sleep Patterns: Average number of sleep hours per night.\n",
    "* Stress Levels: Self-reported stress levels on a scale from 0 (low) to 100 (high).\n",
    "* Pollution Exposure: Exposure to pollution measured in arbitrary units.\n",
    "* Sun Exposure: Average sun exposure in hours per week.\n",
    "* Education Level: Highest level of education attained.\n",
    "* Income Level: Annual income in USD.\n",
    "* Age (years): The target variable representing the age of the individual."
   ]
  },
  {
   "cell_type": "markdown",
   "id": "1b658083",
   "metadata": {},
   "source": [
    "# Import Necessary Libraries"
   ]
  },
  {
   "cell_type": "code",
   "execution_count": 1,
   "id": "499a22c9",
   "metadata": {},
   "outputs": [
    {
     "name": "stderr",
     "output_type": "stream",
     "text": [
      "/Users/hasanenesguray/opt/anaconda3/lib/python3.9/site-packages/pandas/core/arrays/masked.py:60: UserWarning: Pandas requires version '1.3.6' or newer of 'bottleneck' (version '1.3.5' currently installed).\n",
      "  from pandas.core import (\n"
     ]
    }
   ],
   "source": [
    "import pandas as pd\n",
    "import matplotlib.pyplot as plt\n",
    "import seaborn as sns\n",
    "import numpy as np\n",
    "\n",
    "from sklearn.impute import SimpleImputer\n",
    "from sklearn.ensemble import RandomForestClassifier\n",
    "\n",
    "from sklearn.metrics import mean_squared_error,accuracy_score\n",
    "from sklearn.model_selection import cross_val_score\n",
    "from sklearn.model_selection import train_test_split,GridSearchCV\n",
    "from sklearn.preprocessing import StandardScaler, LabelEncoder, MinMaxScaler\n",
    "from sklearn.model_selection import KFold\n",
    "\n",
    "\n",
    "# To suppress warnings\n",
    "%matplotlib inline\n",
    "import warnings\n",
    "warnings.filterwarnings('ignore')"
   ]
  },
  {
   "cell_type": "markdown",
   "id": "2693371a",
   "metadata": {},
   "source": [
    "# Load Datasets"
   ]
  },
  {
   "cell_type": "code",
   "execution_count": 2,
   "id": "5ce5aecb",
   "metadata": {},
   "outputs": [],
   "source": [
    "# Load the training and testing datasets\n",
    "train_df = pd.read_csv('Train.csv') \n",
    "test_df = pd.read_csv('Test.csv')  "
   ]
  },
  {
   "cell_type": "code",
   "execution_count": null,
   "id": "e86c836e",
   "metadata": {},
   "outputs": [],
   "source": []
  }
 ],
 "metadata": {
  "kernelspec": {
   "display_name": "Python 3 (ipykernel)",
   "language": "python",
   "name": "python3"
  },
  "language_info": {
   "codemirror_mode": {
    "name": "ipython",
    "version": 3
   },
   "file_extension": ".py",
   "mimetype": "text/x-python",
   "name": "python",
   "nbconvert_exporter": "python",
   "pygments_lexer": "ipython3",
   "version": "3.9.12"
  }
 },
 "nbformat": 4,
 "nbformat_minor": 5
}
